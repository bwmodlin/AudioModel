{
 "cells": [
  {
   "cell_type": "code",
   "execution_count": 1,
   "metadata": {},
   "outputs": [
    {
     "name": "stderr",
     "output_type": "stream",
     "text": [
      "2023-04-26 08:31:49.057510: I tensorflow/core/platform/cpu_feature_guard.cc:193] This TensorFlow binary is optimized with oneAPI Deep Neural Network Library (oneDNN) to use the following CPU instructions in performance-critical operations:  SSE4.1 SSE4.2\n",
      "To enable them in other operations, rebuild TensorFlow with the appropriate compiler flags.\n"
     ]
    },
    {
     "name": "stdout",
     "output_type": "stream",
     "text": [
      "pygame 2.3.0 (SDL 2.24.2, Python 3.10.10)\n",
      "Hello from the pygame community. https://www.pygame.org/contribute.html\n"
     ]
    }
   ],
   "source": [
    "import tensorflow as tf\n",
    "from ganutilities import play_midi, prepare_generator_output, create_midi_file, build_tone_maps"
   ]
  },
  {
   "cell_type": "code",
   "execution_count": 39,
   "metadata": {},
   "outputs": [
    {
     "name": "stdout",
     "output_type": "stream",
     "text": [
      "WARNING:tensorflow:No training configuration found in save file, so the model was *not* compiled. Compile it manually.\n"
     ]
    }
   ],
   "source": [
    "model_path = './bigepochs/gene11'\n",
    "generator = tf.keras.models.load_model(model_path)\n"
   ]
  },
  {
   "cell_type": "code",
   "execution_count": 40,
   "metadata": {},
   "outputs": [],
   "source": [
    "tm = build_tone_maps()\n",
    "tone_map = tm.get_index_to_tone()"
   ]
  },
  {
   "cell_type": "code",
   "execution_count": 41,
   "metadata": {},
   "outputs": [
    {
     "name": "stdout",
     "output_type": "stream",
     "text": [
      "tf.Tensor(\n",
      "[[ 1.2160914  -1.4863646  -0.06482259 -1.5566815   1.0413746   0.18439467\n",
      "  -1.7507882   0.22074525  0.39380795  0.76688886 -0.8130585  -1.341681\n",
      "  -0.9270615  -0.6131447   0.54990715 -0.45999995 -0.46952295  0.12130892\n",
      "  -0.81673     0.18661991  0.6372761   0.08326653 -0.34643915 -0.9890178\n",
      "   2.1868863  -0.3495477  -0.5225628   0.91651255 -0.7027053   0.20626406\n",
      "  -1.64322    -0.57409966  2.0685709   0.6303835  -1.0029954   0.9767872\n",
      "   1.4219807  -0.27923068 -0.11760443  0.7903772   0.14109972  0.5840171\n",
      "   0.13848917  1.273211    0.25400835  0.46914932  0.57505554 -1.771408\n",
      "  -0.44219947 -0.39925522 -0.04100416 -1.0211439   0.34388918 -0.89267975\n",
      "  -1.100206   -0.92235106  0.46850604  0.49201643  0.16630404  0.52129877\n",
      "   0.03241026  0.13759267  1.7133108  -0.33272406  1.223948    0.5559458\n",
      "  -1.0859164  -1.5896802  -0.80044574  0.22849087 -0.01498421  0.3918975\n",
      "   0.15052691 -1.3176664   0.2239714   0.35979137 -0.5241831  -0.49559033\n",
      "   0.5479849   0.0504745  -0.31389335 -0.42840672 -0.40426534 -2.353273\n",
      "  -0.15952887  0.211495    0.5208925  -2.00443    -2.8939617   0.31685966\n",
      "  -1.3732694   1.9636377   2.3266726  -0.70904577 -0.23519573 -1.0499159\n",
      "  -1.5317974  -1.2045928  -0.81861913 -0.2644518 ]], shape=(1, 100), dtype=float32)\n",
      "(1, 3200, 22, 2)\n"
     ]
    }
   ],
   "source": [
    "noise_dim = 100\n",
    "ticks = 3200\n",
    "\n",
    "noise = tf.random.normal([1, noise_dim])\n",
    "print(noise)\n",
    "gen_r = generator(noise, training=False)\n",
    "print(gen_r.shape)"
   ]
  },
  {
   "cell_type": "code",
   "execution_count": 42,
   "metadata": {},
   "outputs": [],
   "source": [
    "\n",
    "velocity_array = prepare_generator_output(gen_r, ticks)\n",
    "create_midi_file(velocity_array, \"testoutput.mid\", tone_map, velocity_multiplier=3)"
   ]
  },
  {
   "cell_type": "code",
   "execution_count": 48,
   "metadata": {},
   "outputs": [],
   "source": [
    "play_midi(\"testoutput.mid\")"
   ]
  },
  {
   "cell_type": "code",
   "execution_count": 47,
   "metadata": {},
   "outputs": [],
   "source": []
  },
  {
   "cell_type": "code",
   "execution_count": null,
   "metadata": {},
   "outputs": [],
   "source": []
  }
 ],
 "metadata": {
  "interpreter": {
   "hash": "aee8b7b246df8f9039afb4144a1f6fd8d2ca17a180786b69acc140d282b71a49"
  },
  "kernelspec": {
   "display_name": "Python 3.10.0 64-bit",
   "language": "python",
   "name": "python3"
  },
  "language_info": {
   "codemirror_mode": {
    "name": "ipython",
    "version": 3
   },
   "file_extension": ".py",
   "mimetype": "text/x-python",
   "name": "python",
   "nbconvert_exporter": "python",
   "pygments_lexer": "ipython3",
   "version": "3.10.10"
  },
  "orig_nbformat": 4
 },
 "nbformat": 4,
 "nbformat_minor": 2
}
