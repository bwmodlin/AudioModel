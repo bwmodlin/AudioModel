{
 "cells": [
  {
   "cell_type": "code",
   "execution_count": 1,
   "metadata": {},
   "outputs": [],
   "source": [
    "import tensorflow as tf\n",
    "import numpy as np\n",
    "from tensorflow.keras import layers\n",
    "from ganutilities import manage_batch_2c\n",
    "from createganmodels import new_gan_discriminator, new_gan_generator"
   ]
  },
  {
   "cell_type": "code",
   "execution_count": 15,
   "metadata": {},
   "outputs": [],
   "source": [
    "# input variables for training\n",
    "\n",
    "input_ticks = 3200\n",
    "noise_dim = 100\n",
    "batch_size = 50\n",
    "learning_rate = 1e-3\n",
    "data_path = 'fillsplit3200.pickle'\n",
    "starting_epoch = 25"
   ]
  },
  {
   "cell_type": "code",
   "execution_count": 18,
   "metadata": {},
   "outputs": [
    {
     "name": "stdout",
     "output_type": "stream",
     "text": [
      "WARNING:tensorflow:No training configuration found in save file, so the model was *not* compiled. Compile it manually.\n"
     ]
    },
    {
     "name": "stderr",
     "output_type": "stream",
     "text": [
      "WARNING:tensorflow:No training configuration found in save file, so the model was *not* compiled. Compile it manually.\n"
     ]
    },
    {
     "name": "stdout",
     "output_type": "stream",
     "text": [
      "WARNING:tensorflow:No training configuration found in save file, so the model was *not* compiled. Compile it manually.\n"
     ]
    },
    {
     "name": "stderr",
     "output_type": "stream",
     "text": [
      "WARNING:tensorflow:No training configuration found in save file, so the model was *not* compiled. Compile it manually.\n"
     ]
    }
   ],
   "source": [
    "# You can either create new models, or load already trained ones to continue training\n",
    "\n",
    "#discriminator = new_gan_discriminator(input_ticks)\n",
    "#generator = new_gan_generator(input_ticks)\n",
    "\n",
    "gen_path = './bigepochs/gene25'\n",
    "generator = tf.keras.models.load_model(gen_path)\n",
    "\n",
    "disc_path = './bigepochs/dise25'\n",
    "discriminator = tf.keras.models.load_model(disc_path)\n",
    "\n"
   ]
  },
  {
   "cell_type": "code",
   "execution_count": 4,
   "metadata": {},
   "outputs": [],
   "source": [
    "# Uses cross entropy loss (as recommended usually for GANs)\n",
    "cross_entropy = tf.keras.losses.BinaryCrossentropy(from_logits=True)\n",
    "\n",
    "# Discriminator loss is given by the loss from real_output and fake_output\n",
    "def discriminator_loss(real_output, fake_output):\n",
    "    real_loss = cross_entropy(tf.ones_like(real_output), real_output)\n",
    "    fake_loss = cross_entropy(tf.zeros_like(fake_output), fake_output)\n",
    "    total_loss = real_loss + fake_loss\n",
    "    return total_loss\n",
    "\n",
    "# Discriminator successfully guessing the generator is fake is higher loss for the generator\n",
    "\n",
    "def generator_loss(fake_output):\n",
    "    return cross_entropy(tf.ones_like(fake_output), fake_output)\n",
    "\n",
    "# Use Adam optimizer (as recommended for many neural nets)\n",
    "generator_optimizer = tf.keras.optimizers.Adam(learning_rate)\n",
    "discriminator_optimizer = tf.keras.optimizers.Adam(learning_rate)"
   ]
  },
  {
   "cell_type": "code",
   "execution_count": 19,
   "metadata": {},
   "outputs": [],
   "source": [
    "# trains gan for input number of epochs\n",
    "def train_dcgan(epochs):\n",
    "    # uses batch manager to get new shuffled batches every epoch\n",
    "    batch_manager = manage_batch_2c(data_path, batch_size)\n",
    "    for i in range(epochs):\n",
    "        batches = batch_manager.new_epoch()\n",
    "        for batch in batches:\n",
    "            formatted_batch = batch\n",
    "            \n",
    "            # generated latent space for generator\n",
    "            noise = tf.random.normal([batch_size, noise_dim])\n",
    "            \n",
    "            # generates sequences, and gets generator and discriminator loss\n",
    "            with tf.GradientTape() as gen_tape, tf.GradientTape() as disc_tape:\n",
    "                generated_sequences = generator(noise, training=True)\n",
    "\n",
    "                real_output = discriminator(formatted_batch, training=True)\n",
    "                fake_output = discriminator(generated_sequences, training=True)\n",
    "\n",
    "                gen_loss = generator_loss(fake_output)\n",
    "                disc_loss = discriminator_loss(real_output, fake_output)\n",
    "                print(gen_loss, disc_loss)\n",
    "            \n",
    "            # applying gradients\n",
    "            gradients_of_generator = gen_tape.gradient(gen_loss, generator.trainable_variables)\n",
    "            gradients_of_discriminator = disc_tape.gradient(disc_loss, discriminator.trainable_variables)\n",
    "\n",
    "            generator_optimizer.apply_gradients(zip(gradients_of_generator, generator.trainable_variables))\n",
    "            discriminator_optimizer.apply_gradients(zip(gradients_of_discriminator, discriminator.trainable_variables))\n",
    "        \n",
    "        \n",
    "        generator.save(\"./bigepochs/gene\" + str(i+starting_epoch+1))\n",
    "        discriminator.save(\"./bigepochs/dise\" + str(i+starting_epoch+1))\n",
    "        print(\"finished epoch!\", i+starting_epoch + 1)\n"
   ]
  },
  {
   "cell_type": "code",
   "execution_count": 20,
   "metadata": {},
   "outputs": [
    {
     "name": "stdout",
     "output_type": "stream",
     "text": [
      "tf.Tensor(1.173255, shape=(), dtype=float32) tf.Tensor(7.2446275, shape=(), dtype=float32)\n",
      "tf.Tensor(346.95258, shape=(), dtype=float32) tf.Tensor(357.7815, shape=(), dtype=float32)\n",
      "tf.Tensor(83.99507, shape=(), dtype=float32) tf.Tensor(91.46596, shape=(), dtype=float32)\n",
      "tf.Tensor(0.0, shape=(), dtype=float32) tf.Tensor(107.936554, shape=(), dtype=float32)\n",
      "tf.Tensor(1.2369725, shape=(), dtype=float32) tf.Tensor(9.884946, shape=(), dtype=float32)\n",
      "tf.Tensor(274.7884, shape=(), dtype=float32) tf.Tensor(245.25587, shape=(), dtype=float32)\n",
      "tf.Tensor(207.21594, shape=(), dtype=float32) tf.Tensor(161.24785, shape=(), dtype=float32)\n",
      "WARNING:tensorflow:Compiled the loaded model, but the compiled metrics have yet to be built. `model.compile_metrics` will be empty until you train or evaluate the model.\n"
     ]
    },
    {
     "name": "stderr",
     "output_type": "stream",
     "text": [
      "WARNING:tensorflow:Compiled the loaded model, but the compiled metrics have yet to be built. `model.compile_metrics` will be empty until you train or evaluate the model.\n",
      "WARNING:absl:Found untraced functions such as _jit_compiled_convolution_op, _jit_compiled_convolution_op, _jit_compiled_convolution_op while saving (showing 3 of 3). These functions will not be directly callable after loading.\n"
     ]
    },
    {
     "name": "stdout",
     "output_type": "stream",
     "text": [
      "INFO:tensorflow:Assets written to: ./bigepochs/gene26/assets\n"
     ]
    },
    {
     "name": "stderr",
     "output_type": "stream",
     "text": [
      "INFO:tensorflow:Assets written to: ./bigepochs/gene26/assets\n"
     ]
    },
    {
     "name": "stdout",
     "output_type": "stream",
     "text": [
      "WARNING:tensorflow:Compiled the loaded model, but the compiled metrics have yet to be built. `model.compile_metrics` will be empty until you train or evaluate the model.\n"
     ]
    },
    {
     "name": "stderr",
     "output_type": "stream",
     "text": [
      "WARNING:tensorflow:Compiled the loaded model, but the compiled metrics have yet to be built. `model.compile_metrics` will be empty until you train or evaluate the model.\n",
      "WARNING:absl:Found untraced functions such as _jit_compiled_convolution_op, _jit_compiled_convolution_op while saving (showing 2 of 2). These functions will not be directly callable after loading.\n"
     ]
    },
    {
     "name": "stdout",
     "output_type": "stream",
     "text": [
      "INFO:tensorflow:Assets written to: ./bigepochs/dise26/assets\n"
     ]
    },
    {
     "name": "stderr",
     "output_type": "stream",
     "text": [
      "INFO:tensorflow:Assets written to: ./bigepochs/dise26/assets\n"
     ]
    },
    {
     "name": "stdout",
     "output_type": "stream",
     "text": [
      "finished epoch! 26\n",
      "tf.Tensor(31.231565, shape=(), dtype=float32) tf.Tensor(2.665008, shape=(), dtype=float32)\n",
      "tf.Tensor(0.0, shape=(), dtype=float32) tf.Tensor(134.65463, shape=(), dtype=float32)\n",
      "tf.Tensor(0.0, shape=(), dtype=float32) tf.Tensor(142.17696, shape=(), dtype=float32)\n",
      "tf.Tensor(0.66249484, shape=(), dtype=float32) tf.Tensor(27.634062, shape=(), dtype=float32)\n",
      "tf.Tensor(256.28748, shape=(), dtype=float32) tf.Tensor(108.10621, shape=(), dtype=float32)\n",
      "tf.Tensor(199.83578, shape=(), dtype=float32) tf.Tensor(36.365894, shape=(), dtype=float32)\n",
      "tf.Tensor(47.107212, shape=(), dtype=float32) tf.Tensor(0.24139467, shape=(), dtype=float32)\n",
      "WARNING:tensorflow:Compiled the loaded model, but the compiled metrics have yet to be built. `model.compile_metrics` will be empty until you train or evaluate the model.\n"
     ]
    },
    {
     "name": "stderr",
     "output_type": "stream",
     "text": [
      "WARNING:tensorflow:Compiled the loaded model, but the compiled metrics have yet to be built. `model.compile_metrics` will be empty until you train or evaluate the model.\n",
      "WARNING:absl:Found untraced functions such as _jit_compiled_convolution_op, _jit_compiled_convolution_op, _jit_compiled_convolution_op while saving (showing 3 of 3). These functions will not be directly callable after loading.\n"
     ]
    },
    {
     "name": "stdout",
     "output_type": "stream",
     "text": [
      "INFO:tensorflow:Assets written to: ./bigepochs/gene27/assets\n"
     ]
    },
    {
     "name": "stderr",
     "output_type": "stream",
     "text": [
      "INFO:tensorflow:Assets written to: ./bigepochs/gene27/assets\n"
     ]
    },
    {
     "name": "stdout",
     "output_type": "stream",
     "text": [
      "WARNING:tensorflow:Compiled the loaded model, but the compiled metrics have yet to be built. `model.compile_metrics` will be empty until you train or evaluate the model.\n"
     ]
    },
    {
     "name": "stderr",
     "output_type": "stream",
     "text": [
      "WARNING:tensorflow:Compiled the loaded model, but the compiled metrics have yet to be built. `model.compile_metrics` will be empty until you train or evaluate the model.\n",
      "WARNING:absl:Found untraced functions such as _jit_compiled_convolution_op, _jit_compiled_convolution_op while saving (showing 2 of 2). These functions will not be directly callable after loading.\n"
     ]
    },
    {
     "name": "stdout",
     "output_type": "stream",
     "text": [
      "INFO:tensorflow:Assets written to: ./bigepochs/dise27/assets\n"
     ]
    },
    {
     "name": "stderr",
     "output_type": "stream",
     "text": [
      "INFO:tensorflow:Assets written to: ./bigepochs/dise27/assets\n"
     ]
    },
    {
     "name": "stdout",
     "output_type": "stream",
     "text": [
      "finished epoch! 27\n",
      "tf.Tensor(4.8363744e-16, shape=(), dtype=float32) tf.Tensor(73.97549, shape=(), dtype=float32)\n",
      "tf.Tensor(2.4914083e-08, shape=(), dtype=float32) tf.Tensor(78.31111, shape=(), dtype=float32)\n",
      "tf.Tensor(5.5010166, shape=(), dtype=float32) tf.Tensor(18.385324, shape=(), dtype=float32)\n",
      "tf.Tensor(95.64334, shape=(), dtype=float32) tf.Tensor(79.59271, shape=(), dtype=float32)\n",
      "tf.Tensor(81.23978, shape=(), dtype=float32) tf.Tensor(83.75076, shape=(), dtype=float32)\n",
      "tf.Tensor(5.1071, shape=(), dtype=float32) tf.Tensor(21.330233, shape=(), dtype=float32)\n",
      "tf.Tensor(7.000683, shape=(), dtype=float32) tf.Tensor(21.439692, shape=(), dtype=float32)\n",
      "WARNING:tensorflow:Compiled the loaded model, but the compiled metrics have yet to be built. `model.compile_metrics` will be empty until you train or evaluate the model.\n"
     ]
    },
    {
     "name": "stderr",
     "output_type": "stream",
     "text": [
      "WARNING:tensorflow:Compiled the loaded model, but the compiled metrics have yet to be built. `model.compile_metrics` will be empty until you train or evaluate the model.\n",
      "WARNING:absl:Found untraced functions such as _jit_compiled_convolution_op, _jit_compiled_convolution_op, _jit_compiled_convolution_op while saving (showing 3 of 3). These functions will not be directly callable after loading.\n"
     ]
    },
    {
     "name": "stdout",
     "output_type": "stream",
     "text": [
      "INFO:tensorflow:Assets written to: ./bigepochs/gene28/assets\n"
     ]
    },
    {
     "name": "stderr",
     "output_type": "stream",
     "text": [
      "INFO:tensorflow:Assets written to: ./bigepochs/gene28/assets\n"
     ]
    },
    {
     "name": "stdout",
     "output_type": "stream",
     "text": [
      "WARNING:tensorflow:Compiled the loaded model, but the compiled metrics have yet to be built. `model.compile_metrics` will be empty until you train or evaluate the model.\n"
     ]
    },
    {
     "name": "stderr",
     "output_type": "stream",
     "text": [
      "WARNING:tensorflow:Compiled the loaded model, but the compiled metrics have yet to be built. `model.compile_metrics` will be empty until you train or evaluate the model.\n",
      "WARNING:absl:Found untraced functions such as _jit_compiled_convolution_op, _jit_compiled_convolution_op while saving (showing 2 of 2). These functions will not be directly callable after loading.\n"
     ]
    },
    {
     "name": "stdout",
     "output_type": "stream",
     "text": [
      "INFO:tensorflow:Assets written to: ./bigepochs/dise28/assets\n"
     ]
    },
    {
     "name": "stderr",
     "output_type": "stream",
     "text": [
      "INFO:tensorflow:Assets written to: ./bigepochs/dise28/assets\n"
     ]
    },
    {
     "name": "stdout",
     "output_type": "stream",
     "text": [
      "finished epoch! 28\n",
      "tf.Tensor(89.66344, shape=(), dtype=float32) tf.Tensor(1.1598139e-05, shape=(), dtype=float32)\n",
      "tf.Tensor(181.94373, shape=(), dtype=float32) tf.Tensor(1.9150891e-21, shape=(), dtype=float32)\n",
      "tf.Tensor(234.63618, shape=(), dtype=float32) tf.Tensor(0.0, shape=(), dtype=float32)\n",
      "tf.Tensor(235.51773, shape=(), dtype=float32) tf.Tensor(4.101904e-07, shape=(), dtype=float32)\n",
      "tf.Tensor(180.10147, shape=(), dtype=float32) tf.Tensor(0.20123129, shape=(), dtype=float32)\n",
      "tf.Tensor(91.16605, shape=(), dtype=float32) tf.Tensor(5.723792, shape=(), dtype=float32)\n",
      "tf.Tensor(19.716066, shape=(), dtype=float32) tf.Tensor(33.412453, shape=(), dtype=float32)\n",
      "WARNING:tensorflow:Compiled the loaded model, but the compiled metrics have yet to be built. `model.compile_metrics` will be empty until you train or evaluate the model.\n"
     ]
    },
    {
     "name": "stderr",
     "output_type": "stream",
     "text": [
      "WARNING:tensorflow:Compiled the loaded model, but the compiled metrics have yet to be built. `model.compile_metrics` will be empty until you train or evaluate the model.\n",
      "WARNING:absl:Found untraced functions such as _jit_compiled_convolution_op, _jit_compiled_convolution_op, _jit_compiled_convolution_op while saving (showing 3 of 3). These functions will not be directly callable after loading.\n"
     ]
    },
    {
     "name": "stdout",
     "output_type": "stream",
     "text": [
      "INFO:tensorflow:Assets written to: ./bigepochs/gene29/assets\n"
     ]
    },
    {
     "name": "stderr",
     "output_type": "stream",
     "text": [
      "INFO:tensorflow:Assets written to: ./bigepochs/gene29/assets\n"
     ]
    },
    {
     "name": "stdout",
     "output_type": "stream",
     "text": [
      "WARNING:tensorflow:Compiled the loaded model, but the compiled metrics have yet to be built. `model.compile_metrics` will be empty until you train or evaluate the model.\n"
     ]
    },
    {
     "name": "stderr",
     "output_type": "stream",
     "text": [
      "WARNING:tensorflow:Compiled the loaded model, but the compiled metrics have yet to be built. `model.compile_metrics` will be empty until you train or evaluate the model.\n",
      "WARNING:absl:Found untraced functions such as _jit_compiled_convolution_op, _jit_compiled_convolution_op while saving (showing 2 of 2). These functions will not be directly callable after loading.\n"
     ]
    },
    {
     "name": "stdout",
     "output_type": "stream",
     "text": [
      "INFO:tensorflow:Assets written to: ./bigepochs/dise29/assets\n"
     ]
    },
    {
     "name": "stderr",
     "output_type": "stream",
     "text": [
      "INFO:tensorflow:Assets written to: ./bigepochs/dise29/assets\n"
     ]
    },
    {
     "name": "stdout",
     "output_type": "stream",
     "text": [
      "finished epoch! 29\n",
      "tf.Tensor(18.272846, shape=(), dtype=float32) tf.Tensor(26.941988, shape=(), dtype=float32)\n",
      "tf.Tensor(152.2041, shape=(), dtype=float32) tf.Tensor(7.411597e-28, shape=(), dtype=float32)\n",
      "tf.Tensor(317.04227, shape=(), dtype=float32) tf.Tensor(57.3675, shape=(), dtype=float32)\n",
      "tf.Tensor(50.285, shape=(), dtype=float32) tf.Tensor(7.584506, shape=(), dtype=float32)\n",
      "tf.Tensor(1.6086531e-16, shape=(), dtype=float32) tf.Tensor(125.2349, shape=(), dtype=float32)\n",
      "tf.Tensor(50.54313, shape=(), dtype=float32) tf.Tensor(20.374016, shape=(), dtype=float32)\n",
      "tf.Tensor(249.40309, shape=(), dtype=float32) tf.Tensor(0.32384983, shape=(), dtype=float32)\n",
      "WARNING:tensorflow:Compiled the loaded model, but the compiled metrics have yet to be built. `model.compile_metrics` will be empty until you train or evaluate the model.\n"
     ]
    },
    {
     "name": "stderr",
     "output_type": "stream",
     "text": [
      "WARNING:tensorflow:Compiled the loaded model, but the compiled metrics have yet to be built. `model.compile_metrics` will be empty until you train or evaluate the model.\n",
      "WARNING:absl:Found untraced functions such as _jit_compiled_convolution_op, _jit_compiled_convolution_op, _jit_compiled_convolution_op while saving (showing 3 of 3). These functions will not be directly callable after loading.\n"
     ]
    },
    {
     "name": "stdout",
     "output_type": "stream",
     "text": [
      "INFO:tensorflow:Assets written to: ./bigepochs/gene30/assets\n"
     ]
    },
    {
     "name": "stderr",
     "output_type": "stream",
     "text": [
      "INFO:tensorflow:Assets written to: ./bigepochs/gene30/assets\n"
     ]
    },
    {
     "name": "stdout",
     "output_type": "stream",
     "text": [
      "WARNING:tensorflow:Compiled the loaded model, but the compiled metrics have yet to be built. `model.compile_metrics` will be empty until you train or evaluate the model.\n"
     ]
    },
    {
     "name": "stderr",
     "output_type": "stream",
     "text": [
      "WARNING:tensorflow:Compiled the loaded model, but the compiled metrics have yet to be built. `model.compile_metrics` will be empty until you train or evaluate the model.\n",
      "WARNING:absl:Found untraced functions such as _jit_compiled_convolution_op, _jit_compiled_convolution_op while saving (showing 2 of 2). These functions will not be directly callable after loading.\n"
     ]
    },
    {
     "name": "stdout",
     "output_type": "stream",
     "text": [
      "INFO:tensorflow:Assets written to: ./bigepochs/dise30/assets\n"
     ]
    },
    {
     "name": "stderr",
     "output_type": "stream",
     "text": [
      "INFO:tensorflow:Assets written to: ./bigepochs/dise30/assets\n"
     ]
    },
    {
     "name": "stdout",
     "output_type": "stream",
     "text": [
      "finished epoch! 30\n",
      "tf.Tensor(428.46857, shape=(), dtype=float32) tf.Tensor(0.0, shape=(), dtype=float32)\n",
      "tf.Tensor(476.8269, shape=(), dtype=float32) tf.Tensor(0.0, shape=(), dtype=float32)\n",
      "tf.Tensor(362.67743, shape=(), dtype=float32) tf.Tensor(8.299388e-32, shape=(), dtype=float32)\n",
      "tf.Tensor(131.63765, shape=(), dtype=float32) tf.Tensor(0.0067921923, shape=(), dtype=float32)\n",
      "tf.Tensor(47.704174, shape=(), dtype=float32) tf.Tensor(1.1022213, shape=(), dtype=float32)\n",
      "tf.Tensor(146.2677, shape=(), dtype=float32) tf.Tensor(118.7604, shape=(), dtype=float32)\n",
      "tf.Tensor(0.0, shape=(), dtype=float32) tf.Tensor(316.13824, shape=(), dtype=float32)\n",
      "WARNING:tensorflow:Compiled the loaded model, but the compiled metrics have yet to be built. `model.compile_metrics` will be empty until you train or evaluate the model.\n"
     ]
    },
    {
     "name": "stderr",
     "output_type": "stream",
     "text": [
      "WARNING:tensorflow:Compiled the loaded model, but the compiled metrics have yet to be built. `model.compile_metrics` will be empty until you train or evaluate the model.\n",
      "WARNING:absl:Found untraced functions such as _jit_compiled_convolution_op, _jit_compiled_convolution_op, _jit_compiled_convolution_op while saving (showing 3 of 3). These functions will not be directly callable after loading.\n"
     ]
    },
    {
     "name": "stdout",
     "output_type": "stream",
     "text": [
      "INFO:tensorflow:Assets written to: ./bigepochs/gene31/assets\n"
     ]
    },
    {
     "name": "stderr",
     "output_type": "stream",
     "text": [
      "INFO:tensorflow:Assets written to: ./bigepochs/gene31/assets\n"
     ]
    },
    {
     "name": "stdout",
     "output_type": "stream",
     "text": [
      "WARNING:tensorflow:Compiled the loaded model, but the compiled metrics have yet to be built. `model.compile_metrics` will be empty until you train or evaluate the model.\n"
     ]
    },
    {
     "name": "stderr",
     "output_type": "stream",
     "text": [
      "WARNING:tensorflow:Compiled the loaded model, but the compiled metrics have yet to be built. `model.compile_metrics` will be empty until you train or evaluate the model.\n",
      "WARNING:absl:Found untraced functions such as _jit_compiled_convolution_op, _jit_compiled_convolution_op while saving (showing 2 of 2). These functions will not be directly callable after loading.\n"
     ]
    },
    {
     "name": "stdout",
     "output_type": "stream",
     "text": [
      "INFO:tensorflow:Assets written to: ./bigepochs/dise31/assets\n"
     ]
    },
    {
     "name": "stderr",
     "output_type": "stream",
     "text": [
      "INFO:tensorflow:Assets written to: ./bigepochs/dise31/assets\n"
     ]
    },
    {
     "name": "stdout",
     "output_type": "stream",
     "text": [
      "finished epoch! 31\n",
      "tf.Tensor(0.0, shape=(), dtype=float32) tf.Tensor(349.7865, shape=(), dtype=float32)\n",
      "tf.Tensor(1.2924381, shape=(), dtype=float32) tf.Tensor(163.5806, shape=(), dtype=float32)\n",
      "tf.Tensor(266.19797, shape=(), dtype=float32) tf.Tensor(281.00882, shape=(), dtype=float32)\n",
      "tf.Tensor(142.59502, shape=(), dtype=float32) tf.Tensor(170.38416, shape=(), dtype=float32)\n",
      "tf.Tensor(0.0, shape=(), dtype=float32) tf.Tensor(186.52516, shape=(), dtype=float32)\n",
      "tf.Tensor(0.0, shape=(), dtype=float32) tf.Tensor(249.55295, shape=(), dtype=float32)\n",
      "tf.Tensor(0.0, shape=(), dtype=float32) tf.Tensor(140.36781, shape=(), dtype=float32)\n",
      "WARNING:tensorflow:Compiled the loaded model, but the compiled metrics have yet to be built. `model.compile_metrics` will be empty until you train or evaluate the model.\n"
     ]
    },
    {
     "name": "stderr",
     "output_type": "stream",
     "text": [
      "WARNING:tensorflow:Compiled the loaded model, but the compiled metrics have yet to be built. `model.compile_metrics` will be empty until you train or evaluate the model.\n",
      "WARNING:absl:Found untraced functions such as _jit_compiled_convolution_op, _jit_compiled_convolution_op, _jit_compiled_convolution_op while saving (showing 3 of 3). These functions will not be directly callable after loading.\n"
     ]
    },
    {
     "name": "stdout",
     "output_type": "stream",
     "text": [
      "INFO:tensorflow:Assets written to: ./bigepochs/gene32/assets\n"
     ]
    },
    {
     "name": "stderr",
     "output_type": "stream",
     "text": [
      "INFO:tensorflow:Assets written to: ./bigepochs/gene32/assets\n"
     ]
    },
    {
     "name": "stdout",
     "output_type": "stream",
     "text": [
      "WARNING:tensorflow:Compiled the loaded model, but the compiled metrics have yet to be built. `model.compile_metrics` will be empty until you train or evaluate the model.\n"
     ]
    },
    {
     "name": "stderr",
     "output_type": "stream",
     "text": [
      "WARNING:tensorflow:Compiled the loaded model, but the compiled metrics have yet to be built. `model.compile_metrics` will be empty until you train or evaluate the model.\n",
      "WARNING:absl:Found untraced functions such as _jit_compiled_convolution_op, _jit_compiled_convolution_op while saving (showing 2 of 2). These functions will not be directly callable after loading.\n"
     ]
    },
    {
     "name": "stdout",
     "output_type": "stream",
     "text": [
      "INFO:tensorflow:Assets written to: ./bigepochs/dise32/assets\n"
     ]
    },
    {
     "name": "stderr",
     "output_type": "stream",
     "text": [
      "INFO:tensorflow:Assets written to: ./bigepochs/dise32/assets\n"
     ]
    },
    {
     "name": "stdout",
     "output_type": "stream",
     "text": [
      "finished epoch! 32\n",
      "tf.Tensor(135.44666, shape=(), dtype=float32) tf.Tensor(97.497734, shape=(), dtype=float32)\n",
      "tf.Tensor(208.37422, shape=(), dtype=float32) tf.Tensor(118.81989, shape=(), dtype=float32)\n",
      "tf.Tensor(98.874054, shape=(), dtype=float32) tf.Tensor(5.473489, shape=(), dtype=float32)\n",
      "tf.Tensor(0.123780005, shape=(), dtype=float32) tf.Tensor(39.632042, shape=(), dtype=float32)\n",
      "tf.Tensor(26.51674, shape=(), dtype=float32) tf.Tensor(0.47041076, shape=(), dtype=float32)\n",
      "tf.Tensor(111.09982, shape=(), dtype=float32) tf.Tensor(4.5340722e-18, shape=(), dtype=float32)\n",
      "tf.Tensor(192.69722, shape=(), dtype=float32) tf.Tensor(0.0, shape=(), dtype=float32)\n",
      "WARNING:tensorflow:Compiled the loaded model, but the compiled metrics have yet to be built. `model.compile_metrics` will be empty until you train or evaluate the model.\n"
     ]
    },
    {
     "name": "stderr",
     "output_type": "stream",
     "text": [
      "WARNING:tensorflow:Compiled the loaded model, but the compiled metrics have yet to be built. `model.compile_metrics` will be empty until you train or evaluate the model.\n",
      "WARNING:absl:Found untraced functions such as _jit_compiled_convolution_op, _jit_compiled_convolution_op, _jit_compiled_convolution_op while saving (showing 3 of 3). These functions will not be directly callable after loading.\n"
     ]
    },
    {
     "name": "stdout",
     "output_type": "stream",
     "text": [
      "INFO:tensorflow:Assets written to: ./bigepochs/gene33/assets\n"
     ]
    },
    {
     "name": "stderr",
     "output_type": "stream",
     "text": [
      "INFO:tensorflow:Assets written to: ./bigepochs/gene33/assets\n"
     ]
    },
    {
     "name": "stdout",
     "output_type": "stream",
     "text": [
      "WARNING:tensorflow:Compiled the loaded model, but the compiled metrics have yet to be built. `model.compile_metrics` will be empty until you train or evaluate the model.\n"
     ]
    },
    {
     "name": "stderr",
     "output_type": "stream",
     "text": [
      "WARNING:tensorflow:Compiled the loaded model, but the compiled metrics have yet to be built. `model.compile_metrics` will be empty until you train or evaluate the model.\n",
      "WARNING:absl:Found untraced functions such as _jit_compiled_convolution_op, _jit_compiled_convolution_op while saving (showing 2 of 2). These functions will not be directly callable after loading.\n"
     ]
    },
    {
     "name": "stdout",
     "output_type": "stream",
     "text": [
      "INFO:tensorflow:Assets written to: ./bigepochs/dise33/assets\n"
     ]
    },
    {
     "name": "stderr",
     "output_type": "stream",
     "text": [
      "INFO:tensorflow:Assets written to: ./bigepochs/dise33/assets\n"
     ]
    },
    {
     "name": "stdout",
     "output_type": "stream",
     "text": [
      "finished epoch! 33\n",
      "tf.Tensor(253.53008, shape=(), dtype=float32) tf.Tensor(8.0415063e-11, shape=(), dtype=float32)\n",
      "tf.Tensor(281.0504, shape=(), dtype=float32) tf.Tensor(0.00052313716, shape=(), dtype=float32)\n",
      "tf.Tensor(282.4862, shape=(), dtype=float32) tf.Tensor(2.1448876e-23, shape=(), dtype=float32)\n",
      "tf.Tensor(264.7468, shape=(), dtype=float32) tf.Tensor(0.0012291339, shape=(), dtype=float32)\n",
      "tf.Tensor(233.87744, shape=(), dtype=float32) tf.Tensor(0.32470378, shape=(), dtype=float32)\n",
      "tf.Tensor(203.69945, shape=(), dtype=float32) tf.Tensor(4.5270605, shape=(), dtype=float32)\n",
      "tf.Tensor(142.84663, shape=(), dtype=float32) tf.Tensor(1.8592765, shape=(), dtype=float32)\n",
      "WARNING:tensorflow:Compiled the loaded model, but the compiled metrics have yet to be built. `model.compile_metrics` will be empty until you train or evaluate the model.\n"
     ]
    },
    {
     "name": "stderr",
     "output_type": "stream",
     "text": [
      "WARNING:tensorflow:Compiled the loaded model, but the compiled metrics have yet to be built. `model.compile_metrics` will be empty until you train or evaluate the model.\n",
      "WARNING:absl:Found untraced functions such as _jit_compiled_convolution_op, _jit_compiled_convolution_op, _jit_compiled_convolution_op while saving (showing 3 of 3). These functions will not be directly callable after loading.\n"
     ]
    },
    {
     "name": "stdout",
     "output_type": "stream",
     "text": [
      "INFO:tensorflow:Assets written to: ./bigepochs/gene34/assets\n"
     ]
    },
    {
     "name": "stderr",
     "output_type": "stream",
     "text": [
      "INFO:tensorflow:Assets written to: ./bigepochs/gene34/assets\n"
     ]
    },
    {
     "name": "stdout",
     "output_type": "stream",
     "text": [
      "WARNING:tensorflow:Compiled the loaded model, but the compiled metrics have yet to be built. `model.compile_metrics` will be empty until you train or evaluate the model.\n"
     ]
    },
    {
     "name": "stderr",
     "output_type": "stream",
     "text": [
      "WARNING:tensorflow:Compiled the loaded model, but the compiled metrics have yet to be built. `model.compile_metrics` will be empty until you train or evaluate the model.\n",
      "WARNING:absl:Found untraced functions such as _jit_compiled_convolution_op, _jit_compiled_convolution_op while saving (showing 2 of 2). These functions will not be directly callable after loading.\n"
     ]
    },
    {
     "name": "stdout",
     "output_type": "stream",
     "text": [
      "INFO:tensorflow:Assets written to: ./bigepochs/dise34/assets\n"
     ]
    },
    {
     "name": "stderr",
     "output_type": "stream",
     "text": [
      "INFO:tensorflow:Assets written to: ./bigepochs/dise34/assets\n"
     ]
    },
    {
     "name": "stdout",
     "output_type": "stream",
     "text": [
      "finished epoch! 34\n",
      "tf.Tensor(66.08867, shape=(), dtype=float32) tf.Tensor(0.18229018, shape=(), dtype=float32)\n",
      "tf.Tensor(9.689105, shape=(), dtype=float32) tf.Tensor(21.315649, shape=(), dtype=float32)\n",
      "tf.Tensor(131.22803, shape=(), dtype=float32) tf.Tensor(0.00051252526, shape=(), dtype=float32)\n",
      "tf.Tensor(266.16873, shape=(), dtype=float32) tf.Tensor(30.01282, shape=(), dtype=float32)\n",
      "tf.Tensor(179.33607, shape=(), dtype=float32) tf.Tensor(3.966597e-24, shape=(), dtype=float32)\n",
      "tf.Tensor(127.89675, shape=(), dtype=float32) tf.Tensor(0.41862983, shape=(), dtype=float32)\n",
      "tf.Tensor(94.47291, shape=(), dtype=float32) tf.Tensor(3.19908, shape=(), dtype=float32)\n",
      "WARNING:tensorflow:Compiled the loaded model, but the compiled metrics have yet to be built. `model.compile_metrics` will be empty until you train or evaluate the model.\n"
     ]
    },
    {
     "name": "stderr",
     "output_type": "stream",
     "text": [
      "WARNING:tensorflow:Compiled the loaded model, but the compiled metrics have yet to be built. `model.compile_metrics` will be empty until you train or evaluate the model.\n",
      "WARNING:absl:Found untraced functions such as _jit_compiled_convolution_op, _jit_compiled_convolution_op, _jit_compiled_convolution_op while saving (showing 3 of 3). These functions will not be directly callable after loading.\n"
     ]
    },
    {
     "name": "stdout",
     "output_type": "stream",
     "text": [
      "INFO:tensorflow:Assets written to: ./bigepochs/gene35/assets\n"
     ]
    },
    {
     "name": "stderr",
     "output_type": "stream",
     "text": [
      "INFO:tensorflow:Assets written to: ./bigepochs/gene35/assets\n"
     ]
    },
    {
     "name": "stdout",
     "output_type": "stream",
     "text": [
      "WARNING:tensorflow:Compiled the loaded model, but the compiled metrics have yet to be built. `model.compile_metrics` will be empty until you train or evaluate the model.\n"
     ]
    },
    {
     "name": "stderr",
     "output_type": "stream",
     "text": [
      "WARNING:tensorflow:Compiled the loaded model, but the compiled metrics have yet to be built. `model.compile_metrics` will be empty until you train or evaluate the model.\n",
      "WARNING:absl:Found untraced functions such as _jit_compiled_convolution_op, _jit_compiled_convolution_op while saving (showing 2 of 2). These functions will not be directly callable after loading.\n"
     ]
    },
    {
     "name": "stdout",
     "output_type": "stream",
     "text": [
      "INFO:tensorflow:Assets written to: ./bigepochs/dise35/assets\n"
     ]
    },
    {
     "name": "stderr",
     "output_type": "stream",
     "text": [
      "INFO:tensorflow:Assets written to: ./bigepochs/dise35/assets\n"
     ]
    },
    {
     "name": "stdout",
     "output_type": "stream",
     "text": [
      "finished epoch! 35\n"
     ]
    }
   ],
   "source": [
    "# trains gan for 10 epochs\n",
    "train_dcgan(10)"
   ]
  },
  {
   "cell_type": "code",
   "execution_count": null,
   "metadata": {},
   "outputs": [],
   "source": []
  }
 ],
 "metadata": {
  "interpreter": {
   "hash": "aee8b7b246df8f9039afb4144a1f6fd8d2ca17a180786b69acc140d282b71a49"
  },
  "kernelspec": {
   "display_name": "Python 3.10.0 64-bit",
   "language": "python",
   "name": "python3"
  },
  "language_info": {
   "codemirror_mode": {
    "name": "ipython",
    "version": 3
   },
   "file_extension": ".py",
   "mimetype": "text/x-python",
   "name": "python",
   "nbconvert_exporter": "python",
   "pygments_lexer": "ipython3",
   "version": "3.10.10"
  },
  "orig_nbformat": 4
 },
 "nbformat": 4,
 "nbformat_minor": 2
}
