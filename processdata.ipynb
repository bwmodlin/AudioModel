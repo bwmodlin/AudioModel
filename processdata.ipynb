{
 "cells": [
  {
   "cell_type": "code",
   "execution_count": 67,
   "metadata": {},
   "outputs": [],
   "source": [
    "import numpy as np\n",
    "import pretty_midi as pm\n",
    "import io\n",
    "import pickle"
   ]
  },
  {
   "cell_type": "code",
   "execution_count": 23,
   "metadata": {},
   "outputs": [],
   "source": [
    "info = np.loadtxt(\"./groove/info.csv\", delimiter=\",\", dtype=\"str\")[1:]"
   ]
  },
  {
   "cell_type": "code",
   "execution_count": 64,
   "metadata": {},
   "outputs": [
    {
     "name": "stdout",
     "output_type": "stream",
     "text": [
      "[22, 26, 36, 37, 38, 40, 42, 43, 44, 45, 46, 47, 48, 49, 50, 51, 52, 53, 55, 57, 58, 59]\n"
     ]
    }
   ],
   "source": [
    "tones = [36, 38, 40, 37, 48, 50, 45, 47, 43, 58, 46, 26, 42, 22, 44, 49, 55, 57, 52, 51, 59, 53]\n",
    "tone_map = {}\n",
    "tones.sort()\n",
    "print(tones)"
   ]
  },
  {
   "cell_type": "code",
   "execution_count": 66,
   "metadata": {},
   "outputs": [
    {
     "name": "stdout",
     "output_type": "stream",
     "text": [
      "{22: 0, 26: 1, 36: 2, 37: 3, 38: 4, 40: 5, 42: 6, 43: 7, 44: 8, 45: 9, 46: 10, 47: 11, 48: 12, 49: 13, 50: 14, 51: 15, 52: 16, 53: 17, 55: 18, 57: 19, 58: 20, 59: 21}\n"
     ]
    }
   ],
   "source": [
    "for i, tone in enumerate(tones):\n",
    "    tone_map[tone] = i\n",
    "print(tone_map)"
   ]
  },
  {
   "cell_type": "code",
   "execution_count": 97,
   "metadata": {},
   "outputs": [],
   "source": [
    "def convert_to_sequence(midi_data):\n",
    "    time_resolution = midi_data.tick_to_time(1)\n",
    "    \n",
    "    duration = midi_data.get_end_time()\n",
    "    total_ticks = int(duration / time_resolution) + 1\n",
    "    \n",
    "    note_sequence = np.zeros((total_ticks, len(tones)))\n",
    "    \n",
    "    for instrument in midi_data.instruments:\n",
    "        for note in instrument.notes:\n",
    "            tick_start = int(note.start / time_resolution)\n",
    "            tick_end = int(note.end / time_resolution)\n",
    "            \n",
    "            note_sequence[tick_start:tick_end, tone_map[note.pitch]] = note.velocity\n",
    "    \n",
    "    return note_sequence"
   ]
  },
  {
   "cell_type": "code",
   "execution_count": 98,
   "metadata": {},
   "outputs": [],
   "source": [
    "test = []\n",
    "\n",
    "for meta in info:\n",
    "    split = meta[10]\n",
    "    midi_path = meta[7]\n",
    "    midi_data = pm.PrettyMIDI(\"./groove/\" + midi_path)\n",
    "    type = meta[5]\n",
    "    if (type == \"fill\" and split == \"train\"):\n",
    "        test.append(convert_to_sequence(midi_data))\n",
    "        "
   ]
  },
  {
   "cell_type": "code",
   "execution_count": 99,
   "metadata": {},
   "outputs": [
    {
     "name": "stderr",
     "output_type": "stream",
     "text": [
      "/var/folders/7l/846g42h920x3crq90t2kn9sh0000gn/T/ipykernel_99076/1565148663.py:1: VisibleDeprecationWarning: Creating an ndarray from ragged nested sequences (which is a list-or-tuple of lists-or-tuples-or ndarrays with different lengths or shapes) is deprecated. If you meant to do this, you must specify 'dtype=object' when creating the ndarray.\n",
      "  test = np.array(test)\n"
     ]
    }
   ],
   "source": [
    "test = np.array(test)\n",
    "with open('trainfill.pickle', 'wb') as f:\n",
    "    pickle.dump(test, f)"
   ]
  },
  {
   "cell_type": "code",
   "execution_count": 94,
   "metadata": {},
   "outputs": [],
   "source": [
    "with open('trainfill.pickle', 'rb') as f:\n",
    "    load = pickle.load(f)"
   ]
  },
  {
   "cell_type": "code",
   "execution_count": 96,
   "metadata": {},
   "outputs": [
    {
     "name": "stdout",
     "output_type": "stream",
     "text": [
      "(2785, 150)\n"
     ]
    }
   ],
   "source": []
  },
  {
   "cell_type": "code",
   "execution_count": null,
   "metadata": {},
   "outputs": [],
   "source": []
  }
 ],
 "metadata": {
  "interpreter": {
   "hash": "999b360647a633217feff2057e40e50ec38e5e295bc333af1bf8308d81bb26dc"
  },
  "kernelspec": {
   "display_name": "Python 3.10.10 64-bit ('py4sci': conda)",
   "language": "python",
   "name": "python3"
  },
  "language_info": {
   "codemirror_mode": {
    "name": "ipython",
    "version": 3
   },
   "file_extension": ".py",
   "mimetype": "text/x-python",
   "name": "python",
   "nbconvert_exporter": "python",
   "pygments_lexer": "ipython3",
   "version": "3.10.10"
  },
  "orig_nbformat": 4
 },
 "nbformat": 4,
 "nbformat_minor": 2
}
