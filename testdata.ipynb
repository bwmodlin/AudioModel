{
 "cells": [
  {
   "cell_type": "code",
   "execution_count": 41,
   "metadata": {},
   "outputs": [],
   "source": [
    "import tensorflow as tf\n",
    "import tensorflow_datasets as tfds"
   ]
  },
  {
   "cell_type": "code",
   "execution_count": 42,
   "metadata": {},
   "outputs": [
    {
     "data": {
      "text/plain": [
       "True"
      ]
     },
     "execution_count": 42,
     "metadata": {},
     "output_type": "execute_result"
    }
   ],
   "source": [
    "# tfds works in both Eager and Graph modes\n",
    "tf.executing_eagerly()"
   ]
  },
  {
   "cell_type": "code",
   "execution_count": 43,
   "metadata": {},
   "outputs": [
    {
     "name": "stderr",
     "output_type": "stream",
     "text": [
      "WARNING:absl:Warning: Setting shuffle_files=True because split=TRAIN and shuffle_files=None. This behavior will be deprecated on 2019-08-06, at which point shuffle_files=False will be the default for all splits.\n"
     ]
    }
   ],
   "source": [
    "# Load the full GMD with MIDI only (no audio) as a tf.data.Dataset\n",
    "dataset = tfds.load(\n",
    "    name=\"groove/full-midionly\",\n",
    "    split=tfds.Split.TRAIN,\n",
    "    try_gcs=True)"
   ]
  },
  {
   "cell_type": "code",
   "execution_count": 44,
   "metadata": {},
   "outputs": [],
   "source": [
    "# Build your input pipeline\n",
    "dataset = dataset.shuffle(1024).batch(64).prefetch(\n",
    "    tf.data.experimental.AUTOTUNE)"
   ]
  },
  {
   "cell_type": "code",
   "execution_count": 45,
   "metadata": {},
   "outputs": [],
   "source": [
    "\n",
    "for features in dataset.take(1):\n",
    "  # Access the features you are interested in\n",
    "  midi, genre = features[\"midi\"], features[\"style\"][\"primary\"]"
   ]
  },
  {
   "cell_type": "code",
   "execution_count": 40,
   "metadata": {},
   "outputs": [
    {
     "data": {
      "text/plain": [
       "<tf.Tensor: shape=(), dtype=string, numpy=b'MThd\\x00\\x00\\x00\\x06\\x00\\x00\\x00\\x01\\x01\\xe0MTrk\\x00\\x00\\x04\\x18\\x00\\xff\\x03\\nMidi Drums\\x00\\xff\\x04\\x08Brooklyn\\x00\\xffX\\x04\\x04\\x02\\x18\\x08\\x00\\xffY\\x02\\x00\\x00\\x00\\xffT\\x05!\\x00\\x00\\x00\\x00\\x00\\xffQ\\x03\\t\\'\\xc0\\x17\\x99$n\\t\\xb9\\x04Z\\x00\\x99*\\x7fH\\x89$@\\t*@\\x81\\x15\\xb9\\x04Z\\x00\\x99*$Q\\x89*@\\x81\\x14\\x99$|\\x05\\xb9\\x04Z\\x00\\x99*\\x7fL\\x89$@\\x05*@\\x81\\x16\\xb9\\x04Z\\x00\\x99*\\x13Q\\x89*@\\x81\\x10\\x99$J\\x10\\xb9\\x04Z\\x00\\x99*\\x7fA\\x89$@\\x10*@\\x81\\x10\\xb9\\x04Z\\x00\\x99*.Q\\x89*@\\x81\\x05\\x99$k\\x10\\xb9\\x04Z\\x00\\x99*\\x7f\\x04&\\x7f=\\x89$@\\x11*@\\x03&@\\x81\\x1f\\xb9\\x04Z\\x00\\x99*\\x12R\\x89*@\\x81\\x05\\x99$h\\x08\\xb9\\x04Z\\x00\\x99*rI\\x89$@\\t*@\\x81\\x1c\\xb9\\x04Z\\x00\\x99*#Q\\x89*@\\x81\\x17\\x99$o\\x0e\\xb9\\x04Z\\x00\\x99*\\x7fC\\x89$@\\x0e*@\\x81\\x1f\\xb9\\x04Z\\x00\\x99*0Q\\x89*@\\x81\\x1d\\x99$a\\r\\xb9\\x04Z\\x00\\x99*\\x7fD\\x89$@\\r*@\\x81\\x0b\\xb9\\x04Z\\x00\\x99*0Q\\x89*@\\x81\\x03\\x99$\\x7f\\x0f\\xb9\\x04Z\\x00\\x99*\\x7f\\x02&\\x7f?\\x89$@\\x11&@\\x00*@\\x81@\\xb9\\x04Z\\x00\\x99*5Q\\x89*@\\x81\\x18\\x99$c\\x0c\\xb9\\x04Z\\x00\\x99*\\x7fD\\x89$@\\x0e*@\\x81 \\xb9\\x04Z\\x00\\x99*.Q\\x89*@\\x81\\x1a\\x99$P\\t\\xb9\\x04Z\\x00\\x99*\\x7fH\\x89$@\\t*@\\x81\\x1d\\xb9\\x04Z\\x00\\x99*1Q\\x89*@\\x81 \\x99$p\\x01\\xb9\\x04Z\\x00\\x99*\\x7fP\\x89$@\\x00*@\\x81!\\xb9\\x04Z\\x00\\x99*:Q\\x89*@%\\xb9\\x04Z\\x00\\x99*_Q\\x89*@\\x15\\x99$x\\x08\\xb9\\x04Z\\x00\\x99*q\\x06&\\x7fB\\x89$@\\t*@\\x06&@\\x81+\\xb9\\x04Z\\x00\\x99*>R\\x89*@\\x81\\x0b\\x99$V\\t\\xb9\\x04Z\\x00\\x99*\\x7fH\\x89$@\\t*@\\x81\\x1d\\xb9\\x04Z\\x00\\x99*3Q\\x89*@\\x81\\x17\\xb9\\x04Z\\x00\\x99$K\\x00*\\x7fQ\\x89$@\\x00*@\\x81#\\xb9\\x04Z\\x00\\x99*@Q\\x89*@\\x81\\x12\\xb9\\x04Z\\x00\\x99*U\\x01$IP\\x89$@\\x00*@y\\xb9\\x04\\x00\\x1f\\x99$e\\n\\xb9\\x04\\x00\\x00\\x99.\\x7fG\\x89$@\\n.@\\x81\\x13\\xb9\\x04\\x10\\x05\\x99,k\\x0b&\\x7f\\x03*\\x7f\\x0b\\xb9\\x04Z8\\x89,@\\x0b&@\\x02*@\\x81\\x13\\x99$\\x7f\\x05.X\\x06\\xb9\\x04\\x00F\\x89$@\\x04.@\\x81\\x0b\\xb9\\x04\\x10\\x06\\x99,_\\x06$\\x7f\\x00*h\\x13\\xb9\\x04Z7\\x89,@\\x07$@\\x00*@\\x81$\\xb9\\x04Z\\x00\\x99*)Q\\x89*@\\x81,\\xb9\\x04Z\\x00\\x99*\\x7f\\x04&\\x7fM\\x89*@\\x03&@\\x81(\\xb9\\x04Z\\x00\\x99*&Q\\x89*@\\x81\\t\\x99$f\\x0b\\xb9\\x04Z\\x00\\x99*zF\\x89$@\\x0c*@\\x81\\x16\\xb9\\x04Z\\x00\\x99*9Q\\x89*@\"\\xb9\\x04Z\\x00\\x99*AQ\\x89*@(\\xb9\\x04Z\\x00\\x99*\\x7f\\x02&\\x7fO\\x89*@\\x01&@\\x81,\\xb9\\x04Z\\x00\\x99*9Q\\x89*@\\x81\\x13\\x99$\\x7f\\x06\\xb9\\x04Z\\x00\\x99*\\x7fK\\x89$@\\x06*@\\x81.\\xb9\\x04Z\\x00\\x99*\\x08Q\\x89*@\\x81\\x13\\xb9\\x04Z\\x00\\x99&\\x7f\\x00*\\x7fQ\\x89&@\\x00*@\\x81*\\xb9\\x04Z\\x00\\x99*-Q\\x89*@\\x81\\x14\\x99$b\\x05\\xb9\\x04Z\\x00\\x99*\\x7fK\\x89$@\\x06*@\\x81\\x19\\xb9\\x04Z\\x00\\x99*/Q\\x89*@\\x1c\\xb9\\x04Z\\x00\\x99*9Q\\x89*@*\\xb9\\x04Z\\x00\\x99*]\\x07&\\x7fJ\\x89*@\\x07&@\\x81(\\xb9\\x04Z\\x00\\x99*]Q\\x89*@\"\\xb9\\x04Z\\x00\\x99*-Q\\x89*@\\x1c\\x99$}\\x07\\xb9\\x04Z\\x00\\x99*kI\\x89$@\\x08*@\\x81\\x1c\\xb9\\x04Z\\x00\\x99*8Q\\x89*@%\\xb9\\x04Z\\x00\\x99*<Q\\x89*@\\x17\\xb9\\x04Z\\x00\\x99*k\\t&\\x7fH\\x89*@\\t&@\\x81\\x19\\xb9\\x04Z\\x01\\x99*GQ\\x89*@\\'\\xb9\\x04Z\\x00\\x99*.R\\x89*@\\x87`\\xb9\\x04Z\\x00\\x99\\x16\\x7f\\x00$fQ\\x89\\x16@\\x00$@\\x00\\xff/\\x00'>"
      ]
     },
     "execution_count": 40,
     "metadata": {},
     "output_type": "execute_result"
    }
   ],
   "source": [
    "midi[0]"
   ]
  },
  {
   "cell_type": "code",
   "execution_count": null,
   "metadata": {},
   "outputs": [],
   "source": []
  }
 ],
 "metadata": {
  "interpreter": {
   "hash": "999b360647a633217feff2057e40e50ec38e5e295bc333af1bf8308d81bb26dc"
  },
  "kernelspec": {
   "display_name": "Python 3.10.10 64-bit ('py4sci': conda)",
   "language": "python",
   "name": "python3"
  },
  "language_info": {
   "codemirror_mode": {
    "name": "ipython",
    "version": 3
   },
   "file_extension": ".py",
   "mimetype": "text/x-python",
   "name": "python",
   "nbconvert_exporter": "python",
   "pygments_lexer": "ipython3",
   "version": "3.10.10"
  },
  "orig_nbformat": 4
 },
 "nbformat": 4,
 "nbformat_minor": 2
}
