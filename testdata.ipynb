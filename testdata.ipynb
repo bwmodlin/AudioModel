{
 "cells": [
  {
   "cell_type": "code",
   "execution_count": 1,
   "metadata": {},
   "outputs": [
    {
     "name": "stderr",
     "output_type": "stream",
     "text": [
      "2023-04-14 00:37:51.718194: I tensorflow/core/platform/cpu_feature_guard.cc:193] This TensorFlow binary is optimized with oneAPI Deep Neural Network Library (oneDNN) to use the following CPU instructions in performance-critical operations:  SSE4.1 SSE4.2\n",
      "To enable them in other operations, rebuild TensorFlow with the appropriate compiler flags.\n",
      "/Users/benmodlin/miniconda3/envs/py4sci/lib/python3.10/site-packages/tqdm/auto.py:21: TqdmWarning: IProgress not found. Please update jupyter and ipywidgets. See https://ipywidgets.readthedocs.io/en/stable/user_install.html\n",
      "  from .autonotebook import tqdm as notebook_tqdm\n"
     ]
    },
    {
     "name": "stdout",
     "output_type": "stream",
     "text": [
      "pygame 2.3.0 (SDL 2.24.2, Python 3.10.10)\n",
      "Hello from the pygame community. https://www.pygame.org/contribute.html\n"
     ]
    }
   ],
   "source": [
    "import tensorflow as tf\n",
    "import tensorflow_datasets as tfds\n",
    "import pretty_midi as pm\n",
    "import numpy as np\n",
    "import io\n",
    "import matplotlib.pyplot as plt\n",
    "import sys\n",
    "import pygame"
   ]
  },
  {
   "cell_type": "code",
   "execution_count": 2,
   "metadata": {},
   "outputs": [
    {
     "data": {
      "text/plain": [
       "True"
      ]
     },
     "execution_count": 2,
     "metadata": {},
     "output_type": "execute_result"
    }
   ],
   "source": [
    "# tfds works in both Eager and Graph modes\n",
    "tf.executing_eagerly()"
   ]
  },
  {
   "cell_type": "code",
   "execution_count": 3,
   "metadata": {},
   "outputs": [
    {
     "name": "stderr",
     "output_type": "stream",
     "text": [
      "2023-04-14 00:39:58.644987: W tensorflow/core/platform/cloud/google_auth_provider.cc:184] All attempts to get a Google authentication bearer token failed, returning an empty token. Retrieving token from files failed with \"NOT_FOUND: Could not locate the credentials file.\". Retrieving token from GCE failed with \"FAILED_PRECONDITION: Error executing an HTTP request: libcurl code 6 meaning 'Couldn't resolve host name', error details: Could not resolve host: metadata\".\n",
      "WARNING:absl:Warning: Setting shuffle_files=True because split=TRAIN and shuffle_files=None. This behavior will be deprecated on 2019-08-06, at which point shuffle_files=False will be the default for all splits.\n",
      "2023-04-14 00:40:02.064810: I tensorflow/core/platform/cpu_feature_guard.cc:193] This TensorFlow binary is optimized with oneAPI Deep Neural Network Library (oneDNN) to use the following CPU instructions in performance-critical operations:  SSE4.1 SSE4.2\n",
      "To enable them in other operations, rebuild TensorFlow with the appropriate compiler flags.\n"
     ]
    }
   ],
   "source": [
    "# Load the full GMD with MIDI only (no audio) as a tf.data.Dataset\n",
    "dataset = tfds.load(\n",
    "    name=\"groove/full-midionly\",\n",
    "    split=tfds.Split.TRAIN,\n",
    "    try_gcs=True)"
   ]
  },
  {
   "cell_type": "code",
   "execution_count": 4,
   "metadata": {},
   "outputs": [],
   "source": [
    "# Build your input pipeline\n",
    "dataset = dataset.shuffle(1024).batch(64).prefetch(\n",
    "    tf.data.experimental.AUTOTUNE)"
   ]
  },
  {
   "cell_type": "code",
   "execution_count": 5,
   "metadata": {},
   "outputs": [],
   "source": [
    "\n",
    "for features in dataset.take(1):\n",
    "  # Access the features you are interested in\n",
    "  midi, genre = features[\"midi\"], features[\"style\"][\"primary\"]"
   ]
  },
  {
   "cell_type": "code",
   "execution_count": 6,
   "metadata": {},
   "outputs": [
    {
     "name": "stdout",
     "output_type": "stream",
     "text": [
      "tf.Tensor(b'MThd\\x00\\x00\\x00\\x06\\x00\\x00\\x00\\x01\\x01\\xe0MTrk\\x00\\x00\\x01\\x04\\x00\\xff\\x03\\nMidi Drums\\x00\\xff\\x04\\x08Brooklyn\\x00\\xffX\\x04\\x04\\x02\\x18\\x08\\x00\\xffY\\x02\\x00\\x00\\x00\\xffT\\x05!\\x00\\x00\\x00\\x00\\x00\\xffQ\\x03\\x0fB@\\x01\\xb9\\x04\\x19\\x1c\\x04\\x1b<\\x04\\x1d2\\x04\\x1f\\x1e\\x04 \\x1e\\x04\"\\x02\\x04#\\x1e\\x04&\\x08\\x04(<\\x04&\\x1e\\x04$\\x1e\\x04\\x1f\\x13\\x04\\x1b\\x1e\\x04\\x18\\x05\\x04\\x17\\x0f\\x04$\\x0f\\x041\\x0f\\x04>\\x0f\\x04K\\x02\\x99,\\x11\\r\\xb9\\x04X\\x02\\x04Z!\\x89,@\\x1b\\xb9\\x04Y<\\x04X<\\x04W<\\x04V!\\x04U\\x0f\\x04Q\\x0f\\x04L\\x01\\x04K\\x0f\\x04G\\x0f\\x04B\\x02\\x04A\\x0f\\x048\\x0f\\x04.\\x0b\\x04&0\\x04(\\x0f\\x04>\\x0f\\x04T\\x04\\x04Z|\\x99&H0\\x89&@\\x16\\xb9\\x04Y:\\x99&S1\\x89&@A\\x990O\\x16\\xb9\\x04X\\x1a\\x890@;\\x990\\\\1\\x890@<\\xb9\\x04W\\t\\x99-Q0\\x89-@N\\x99+D0\\x89+@\\x0b\\xb9\\x04V5\\x99+@0\\x89+@\\x00\\xff/\\x00', shape=(), dtype=string)\n"
     ]
    }
   ],
   "source": [
    "print(midi[0])\n"
   ]
  },
  {
   "cell_type": "code",
   "execution_count": 15,
   "metadata": {},
   "outputs": [],
   "source": [
    "def play_midi(midi_tensor):\n",
    "    midi_bytes = midi_tensor.numpy()\n",
    "    midi_file = io.BytesIO(midi_bytes)\n",
    "\n",
    "    pygame.init()\n",
    "    pygame.mixer.music.load(midi_file)\n",
    "    pygame.mixer.music.play()\n",
    "\n",
    "    while pygame.mixer.music.get_busy():\n",
    "        pass\n",
    "\n",
    "    pygame.quit()"
   ]
  },
  {
   "cell_type": "code",
   "execution_count": 18,
   "metadata": {},
   "outputs": [],
   "source": [
    "for i in range(3):\n",
    "    play_midi(midi[i])"
   ]
  },
  {
   "cell_type": "code",
   "execution_count": 21,
   "metadata": {},
   "outputs": [],
   "source": [
    "def convert_to_sequence(midi_tensor):\n",
    "    midi_bytes = midi_tensor.numpy()\n",
    "    midi_file = io.BytesIO(midi_bytes)\n",
    "    midi_data = pm.PrettyMIDI(midi_file)\n",
    "    \n",
    "    time_resolution = midi_data.tick_to_time(1)\n",
    "    duration = midi_data.get_end_time()\n",
    "    total_ticks = int(duration / time_resolution) + 1\n",
    "    \n",
    "    note_sequence = np.zeros((total_ticks, 128))\n",
    "    \n",
    "    for instrument in midi_data.instruments:\n",
    "        for note in instrument.notes:\n",
    "            tick_start = int(note.start / time_resolution)\n",
    "            tick_end = int(note.end / time_resolution)\n",
    "            \n",
    "            note_sequence[tick_start:tick_end, note.pitch] = 1\n",
    "    \n",
    "    return note_sequence"
   ]
  },
  {
   "cell_type": "code",
   "execution_count": 22,
   "metadata": {},
   "outputs": [
    {
     "name": "stdout",
     "output_type": "stream",
     "text": [
      "44\n",
      "38\n",
      "38\n",
      "48\n",
      "48\n",
      "45\n",
      "43\n",
      "43\n",
      "(1827, 128)\n"
     ]
    }
   ],
   "source": [
    "roll = convert_to_sequence(midi[0])\n",
    "print(roll.shape)"
   ]
  },
  {
   "cell_type": "code",
   "execution_count": null,
   "metadata": {},
   "outputs": [],
   "source": [
    "np.set_printoptions(threshold=sys.maxsize)\n",
    "\n",
    "print(roll)"
   ]
  },
  {
   "cell_type": "code",
   "execution_count": null,
   "metadata": {},
   "outputs": [],
   "source": []
  }
 ],
 "metadata": {
  "interpreter": {
   "hash": "999b360647a633217feff2057e40e50ec38e5e295bc333af1bf8308d81bb26dc"
  },
  "kernelspec": {
   "display_name": "Python 3.10.10 64-bit ('py4sci': conda)",
   "language": "python",
   "name": "python3"
  },
  "language_info": {
   "codemirror_mode": {
    "name": "ipython",
    "version": 3
   },
   "file_extension": ".py",
   "mimetype": "text/x-python",
   "name": "python",
   "nbconvert_exporter": "python",
   "pygments_lexer": "ipython3",
   "version": "3.10.10"
  },
  "orig_nbformat": 4
 },
 "nbformat": 4,
 "nbformat_minor": 2
}
