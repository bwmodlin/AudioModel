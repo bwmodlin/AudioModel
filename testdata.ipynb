{
 "cells": [
  {
   "cell_type": "code",
   "execution_count": 87,
   "metadata": {},
   "outputs": [],
   "source": [
    "import tensorflow as tf\n",
    "import tensorflow_datasets as tfds\n",
    "import pretty_midi as pm\n",
    "import numpy as np\n",
    "import io\n",
    "import matplotlib.pyplot as plt\n",
    "import sys"
   ]
  },
  {
   "cell_type": "code",
   "execution_count": 110,
   "metadata": {},
   "outputs": [
    {
     "data": {
      "text/plain": [
       "True"
      ]
     },
     "execution_count": 110,
     "metadata": {},
     "output_type": "execute_result"
    }
   ],
   "source": [
    "# tfds works in both Eager and Graph modes\n",
    "np.set_printoptions(threshold=sys.maxsize)\n",
    "tf.executing_eagerly()"
   ]
  },
  {
   "cell_type": "code",
   "execution_count": 89,
   "metadata": {},
   "outputs": [
    {
     "name": "stderr",
     "output_type": "stream",
     "text": [
      "WARNING:absl:Warning: Setting shuffle_files=True because split=TRAIN and shuffle_files=None. This behavior will be deprecated on 2019-08-06, at which point shuffle_files=False will be the default for all splits.\n"
     ]
    }
   ],
   "source": [
    "# Load the full GMD with MIDI only (no audio) as a tf.data.Dataset\n",
    "dataset = tfds.load(\n",
    "    name=\"groove/full-midionly\",\n",
    "    split=tfds.Split.TRAIN,\n",
    "    try_gcs=True)"
   ]
  },
  {
   "cell_type": "code",
   "execution_count": 90,
   "metadata": {},
   "outputs": [],
   "source": [
    "# Build your input pipeline\n",
    "dataset = dataset.shuffle(1024).batch(64).prefetch(\n",
    "    tf.data.experimental.AUTOTUNE)"
   ]
  },
  {
   "cell_type": "code",
   "execution_count": 91,
   "metadata": {},
   "outputs": [],
   "source": [
    "\n",
    "for features in dataset.take(1):\n",
    "  # Access the features you are interested in\n",
    "  midi, genre = features[\"midi\"], features[\"style\"][\"primary\"]"
   ]
  },
  {
   "cell_type": "code",
   "execution_count": 92,
   "metadata": {},
   "outputs": [
    {
     "name": "stdout",
     "output_type": "stream",
     "text": [
      "tf.Tensor(b'MThd\\x00\\x00\\x00\\x06\\x00\\x00\\x00\\x01\\x01\\xe0MTrk\\x00\\x00\\x01G\\x00\\xffQ\\x03\\x0b\\xbc\\xce\\x00\\xffX\\x04\\x04\\x02\\x18\\x08\\x00\\xffY\\x02\\x00\\x00\\x00\\xc9\\x00\\x00\\xb9\\x04Z\\x00\\xc9\\x00\\x15\\xb9\\x04Z\\x01\\x99*\\x18:\\xb9\\x04X\\x06\\x99*\\x004\\xb9\\x04V;\\x04T\\x03\\x04S\\x0f\\x04G\\x0e\\x04:\\x04\\x046\\x06\\x99\\x1ac\\t\\xb9\\x04/\\x0e\\x04(\\n\\x04#\\x1d\\x04 \\x01\\x99\\x1a\\x00\\x1d\\xb9\\x04\\x1c\\x07\\x04\\x1a\\x1e\\x04\\x18\\r\\x04\\x16\\x0f\\x04\\x1d\\x0e\\x04%\\x0f\\x04-\\x05\\x040\\x0f\\x04B\\x04\\x99,\\x16\\n\\xb9\\x04U\\x04\\x04Z\\x08\\x99$?\\x04*+%,\\x00\\x17$\\x00\\x03*\\x00\\x81\\x16\\xb9\\x04Z\\x12\\x99\\x16F)\\xb9\\x04X\\x17\\x99\\x16\\x00#\\xb9\\x04V;\\x04S:\\x04Q\\x08\\x99%S\\x15(k\\x1e\\xb9\\x04N\\x0c\\x99%\\x00\\x15(\\x00\\x19\\xb9\\x04L;\\x04I:\\x04G;\\x04D:\\x04B\\x1f\\x990\"\\x1c\\xb9\\x04@\\x0f\\x99+A\\x130\\x00\\x18\\xb9\\x04=\\x13\\x99$C\\x00+\\x00(\\xb9\\x04;\\x17\\x99$\\x00#\\xb9\\x048;\\x046 \\x044\\x0f\\x04.\\x0e\\x04\\'\\x03\\x99(p\\t\\x1af\\x01\\xb9\\x04!\\x0f\\x04\\x1d\\x0e\\x04\\x18\\x05\\x04\\x16\\x13\\x99(\\x00\\t\\x1a\\x00\\x01\\xb9\\x04\\x14\\x13\\x04\\x12\\x1d\\x04\\x0f\\x0c\\x04\\r\\x0e\\x04\\x11\\x0f\\x04\\x15\\x0f\\x04\\x1a\\x0e\\x049\\x0f\\x04X\\x00\\x04Z\\x1c\\x99,%\\x08\\xb9\\x04Z7\\x99,\\x00\\x01\\xff/\\x00', shape=(), dtype=string)\n"
     ]
    }
   ],
   "source": [
    "print(midi[0])"
   ]
  },
  {
   "cell_type": "code",
   "execution_count": 102,
   "metadata": {},
   "outputs": [],
   "source": [
    "def convert_to_sequence(midi_tensor):\n",
    "    midi_bytes = midi_tensor.numpy()\n",
    "    midi_file = io.BytesIO(midi_bytes)\n",
    "    midi_data = pm.PrettyMIDI(midi_file)\n",
    "    \n",
    "    time_resolution = midi_data.tick_to_time(1)\n",
    "    duration = midi_data.get_end_time()\n",
    "    total_ticks = int(duration / time_resolution) + 1\n",
    "    \n",
    "    note_sequence = np.zeros((total_ticks, 128))\n",
    "    \n",
    "    for instrument in midi_data.instruments:\n",
    "        for note in instrument.notes:\n",
    "            tick_start = int(note.start / time_resolution)\n",
    "            tick_end = int(note.end / time_resolution)\n",
    "            \n",
    "            note_sequence[tick_start:tick_end, note.pitch] = 1\n",
    "    \n",
    "    return note_sequence"
   ]
  },
  {
   "cell_type": "code",
   "execution_count": 111,
   "metadata": {},
   "outputs": [
    {
     "name": "stdout",
     "output_type": "stream",
     "text": [
      "(1928, 128)\n"
     ]
    }
   ],
   "source": [
    "roll = convert_to_sequence(midi[0])\n",
    "\n",
    "print(roll.shape)"
   ]
  },
  {
   "cell_type": "code",
   "execution_count": null,
   "metadata": {},
   "outputs": [],
   "source": []
  }
 ],
 "metadata": {
  "interpreter": {
   "hash": "999b360647a633217feff2057e40e50ec38e5e295bc333af1bf8308d81bb26dc"
  },
  "kernelspec": {
   "display_name": "Python 3.10.10 64-bit ('py4sci': conda)",
   "language": "python",
   "name": "python3"
  },
  "language_info": {
   "codemirror_mode": {
    "name": "ipython",
    "version": 3
   },
   "file_extension": ".py",
   "mimetype": "text/x-python",
   "name": "python",
   "nbconvert_exporter": "python",
   "pygments_lexer": "ipython3",
   "version": "3.10.10"
  },
  "orig_nbformat": 4
 },
 "nbformat": 4,
 "nbformat_minor": 2
}
